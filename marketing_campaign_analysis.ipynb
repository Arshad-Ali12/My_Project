{
 "cells": [
  {
   "cell_type": "code",
   "execution_count": 7,
   "id": "2cd740ea-d9fb-4008-8202-3aa808510298",
   "metadata": {},
   "outputs": [],
   "source": [
    "import pandas as pd\n",
    "import numpy as np\n",
    "import matplotlib.pyplot as plt\n",
    "import seaborn as sns"
   ]
  },
  {
   "cell_type": "code",
   "execution_count": 12,
   "id": "464faa55-827d-453c-b25f-18a542834e72",
   "metadata": {},
   "outputs": [],
   "source": [
    "cust_demo_data =pd.read_csv(r\"C:\\Users\\shaik\\Downloads\\Datasets\\Datasets\\customer_demographic_data.csv\")\n",
    "\n",
    "\n"
   ]
  },
  {
   "cell_type": "code",
   "execution_count": 13,
   "id": "cb4afa02-8332-4d40-b107-538a6a01c885",
   "metadata": {},
   "outputs": [
    {
     "data": {
      "text/html": [
       "<div>\n",
       "<style scoped>\n",
       "    .dataframe tbody tr th:only-of-type {\n",
       "        vertical-align: middle;\n",
       "    }\n",
       "\n",
       "    .dataframe tbody tr th {\n",
       "        vertical-align: top;\n",
       "    }\n",
       "\n",
       "    .dataframe thead th {\n",
       "        text-align: right;\n",
       "    }\n",
       "</style>\n",
       "<table border=\"1\" class=\"dataframe\">\n",
       "  <thead>\n",
       "    <tr style=\"text-align: right;\">\n",
       "      <th></th>\n",
       "      <th>Customer ID</th>\n",
       "      <th>Age</th>\n",
       "      <th>Gender</th>\n",
       "      <th>Location</th>\n",
       "      <th>Income Level</th>\n",
       "    </tr>\n",
       "  </thead>\n",
       "  <tbody>\n",
       "    <tr>\n",
       "      <th>1495</th>\n",
       "      <td>1496</td>\n",
       "      <td>20</td>\n",
       "      <td>Female</td>\n",
       "      <td>Grayville</td>\n",
       "      <td>34803</td>\n",
       "    </tr>\n",
       "    <tr>\n",
       "      <th>1496</th>\n",
       "      <td>1497</td>\n",
       "      <td>63</td>\n",
       "      <td>Female</td>\n",
       "      <td>Ericksonberg</td>\n",
       "      <td>20942</td>\n",
       "    </tr>\n",
       "    <tr>\n",
       "      <th>1497</th>\n",
       "      <td>1498</td>\n",
       "      <td>58</td>\n",
       "      <td>Male</td>\n",
       "      <td>Cannonborough</td>\n",
       "      <td>32766</td>\n",
       "    </tr>\n",
       "    <tr>\n",
       "      <th>1498</th>\n",
       "      <td>1499</td>\n",
       "      <td>39</td>\n",
       "      <td>Non-binary</td>\n",
       "      <td>South Courtneyland</td>\n",
       "      <td>34664</td>\n",
       "    </tr>\n",
       "    <tr>\n",
       "      <th>1499</th>\n",
       "      <td>1500</td>\n",
       "      <td>30</td>\n",
       "      <td>Non-binary</td>\n",
       "      <td>Hughesshire</td>\n",
       "      <td>19907</td>\n",
       "    </tr>\n",
       "  </tbody>\n",
       "</table>\n",
       "</div>"
      ],
      "text/plain": [
       "      Customer ID  Age      Gender            Location  Income Level\n",
       "1495         1496   20      Female           Grayville         34803\n",
       "1496         1497   63      Female        Ericksonberg         20942\n",
       "1497         1498   58        Male       Cannonborough         32766\n",
       "1498         1499   39  Non-binary  South Courtneyland         34664\n",
       "1499         1500   30  Non-binary         Hughesshire         19907"
      ]
     },
     "execution_count": 13,
     "metadata": {},
     "output_type": "execute_result"
    }
   ],
   "source": [
    "cust_demo_data.tail()"
   ]
  },
  {
   "cell_type": "code",
   "execution_count": 14,
   "id": "9c133a9d-8242-43e4-8b3c-48afeedf346a",
   "metadata": {},
   "outputs": [],
   "source": [
    "cust_interaction = pd.read_csv(r\"C:\\Users\\shaik\\Downloads\\Datasets\\Datasets\\customer_interactions.csv\")\n",
    "sales_data = pd.read_csv(r\"C:\\Users\\shaik\\Downloads\\Datasets\\Datasets\\sales_data.csv\")"
   ]
  },
  {
   "cell_type": "code",
   "execution_count": 18,
   "id": "c36ae774-062a-4b99-ae44-4112899d7920",
   "metadata": {},
   "outputs": [
    {
     "data": {
      "text/plain": [
       "Customer ID      int64\n",
       "Age              int64\n",
       "Gender          object\n",
       "Location        object\n",
       "Income Level     int64\n",
       "dtype: object"
      ]
     },
     "execution_count": 18,
     "metadata": {},
     "output_type": "execute_result"
    }
   ],
   "source": [
    "cust_demo_data.dtypes"
   ]
  },
  {
   "cell_type": "code",
   "execution_count": 19,
   "id": "fe663157-b4c1-4604-8af2-1744eb299fdc",
   "metadata": {},
   "outputs": [
    {
     "data": {
      "text/plain": [
       "Customer ID             int64\n",
       "Interaction Date       object\n",
       "Interaction Type       object\n",
       "Interaction Channel    object\n",
       "dtype: object"
      ]
     },
     "execution_count": 19,
     "metadata": {},
     "output_type": "execute_result"
    }
   ],
   "source": [
    "cust_interaction.dtypes"
   ]
  },
  {
   "cell_type": "code",
   "execution_count": 21,
   "id": "15d65d6f-9b75-48c5-864c-c47ca13cec96",
   "metadata": {},
   "outputs": [],
   "source": [
    "cust_interaction[\"Interaction Date\"]=cust_interaction[\"Interaction Date\"].astype(\"datetime64[ns]\")"
   ]
  },
  {
   "cell_type": "code",
   "execution_count": 22,
   "id": "46da744a-d143-47bc-9c9e-c0a88fff3b1a",
   "metadata": {},
   "outputs": [
    {
     "data": {
      "text/plain": [
       "Customer ID                     int64\n",
       "Interaction Date       datetime64[ns]\n",
       "Interaction Type               object\n",
       "Interaction Channel            object\n",
       "dtype: object"
      ]
     },
     "execution_count": 22,
     "metadata": {},
     "output_type": "execute_result"
    }
   ],
   "source": [
    "cust_interaction.dtypes"
   ]
  },
  {
   "cell_type": "code",
   "execution_count": 23,
   "id": "d45283fd-73e9-4d0d-836e-d76f44716fc6",
   "metadata": {},
   "outputs": [
    {
     "data": {
      "text/plain": [
       "Customer ID     0\n",
       "Age             0\n",
       "Gender          0\n",
       "Location        0\n",
       "Income Level    0\n",
       "dtype: int64"
      ]
     },
     "execution_count": 23,
     "metadata": {},
     "output_type": "execute_result"
    }
   ],
   "source": [
    "cust_demo_data.isnull().sum()"
   ]
  },
  {
   "cell_type": "code",
   "execution_count": 24,
   "id": "e0f14ab5-112e-4592-baa6-b7db2c42e242",
   "metadata": {},
   "outputs": [
    {
     "data": {
      "text/plain": [
       "Customer ID             0\n",
       "Interaction Date        0\n",
       "Interaction Type        0\n",
       "Interaction Channel    11\n",
       "dtype: int64"
      ]
     },
     "execution_count": 24,
     "metadata": {},
     "output_type": "execute_result"
    }
   ],
   "source": [
    "cust_interaction.isnull().sum()"
   ]
  },
  {
   "cell_type": "code",
   "execution_count": 25,
   "id": "a950c9e3-1149-4b9d-abca-962743ecc22f",
   "metadata": {},
   "outputs": [
    {
     "data": {
      "text/plain": [
       "Interaction Channel\n",
       "website         334\n",
       "email           329\n",
       "social media    326\n",
       "Name: count, dtype: int64"
      ]
     },
     "execution_count": 25,
     "metadata": {},
     "output_type": "execute_result"
    }
   ],
   "source": [
    "cust_interaction[\"Interaction Channel\"].value_counts()"
   ]
  },
  {
   "cell_type": "code",
   "execution_count": 26,
   "id": "4103e10e-3ae6-478f-9dc9-b9f3318c5b75",
   "metadata": {},
   "outputs": [],
   "source": [
    "cust_interaction[\"Interaction Channel\"]=cust_interaction[\"Interaction Channel\"].fillna(\"website\") "
   ]
  },
  {
   "cell_type": "code",
   "execution_count": 27,
   "id": "6f813757-b6be-4c05-bbda-5109e9ed546c",
   "metadata": {},
   "outputs": [
    {
     "data": {
      "text/plain": [
       "Customer ID            0\n",
       "Interaction Date       0\n",
       "Interaction Type       0\n",
       "Interaction Channel    0\n",
       "dtype: int64"
      ]
     },
     "execution_count": 27,
     "metadata": {},
     "output_type": "execute_result"
    }
   ],
   "source": [
    "cust_interaction.isnull().sum()"
   ]
  },
  {
   "cell_type": "code",
   "execution_count": 28,
   "id": "de7525db-b2ca-4c5e-aad6-f1b91ab943f5",
   "metadata": {},
   "outputs": [
    {
     "data": {
      "text/plain": [
       "Transaction ID      0\n",
       "Transaction Date    0\n",
       "Customer ID         0\n",
       "Product ID          0\n",
       "Product Category    0\n",
       "Sales Amount        0\n",
       "Quantity            0\n",
       "dtype: int64"
      ]
     },
     "execution_count": 28,
     "metadata": {},
     "output_type": "execute_result"
    }
   ],
   "source": [
    "sales_data.isnull().sum()"
   ]
  },
  {
   "cell_type": "code",
   "execution_count": 29,
   "id": "4f08973f-c73a-46c2-a48f-598ed1425185",
   "metadata": {},
   "outputs": [
    {
     "data": {
      "text/plain": [
       "Transaction ID        int64\n",
       "Transaction Date     object\n",
       "Customer ID           int64\n",
       "Product ID            int64\n",
       "Product Category     object\n",
       "Sales Amount        float64\n",
       "Quantity              int64\n",
       "dtype: object"
      ]
     },
     "execution_count": 29,
     "metadata": {},
     "output_type": "execute_result"
    }
   ],
   "source": [
    "sales_data.dtypes"
   ]
  },
  {
   "cell_type": "code",
   "execution_count": 30,
   "id": "ac2e9dc1-a71b-4014-bae5-5e07c591ca5b",
   "metadata": {},
   "outputs": [],
   "source": [
    "sales_data[\"Transaction Date\"] = sales_data[\"Transaction Date\"] .astype(\"datetime64[ns]\") "
   ]
  },
  {
   "cell_type": "code",
   "execution_count": 31,
   "id": "16d8ad0f-cdd9-4c6e-82cb-f77faa20a96d",
   "metadata": {},
   "outputs": [
    {
     "data": {
      "text/plain": [
       "Transaction ID               int64\n",
       "Transaction Date    datetime64[ns]\n",
       "Customer ID                  int64\n",
       "Product ID                   int64\n",
       "Product Category            object\n",
       "Sales Amount               float64\n",
       "Quantity                     int64\n",
       "dtype: object"
      ]
     },
     "execution_count": 31,
     "metadata": {},
     "output_type": "execute_result"
    }
   ],
   "source": [
    "sales_data.dtypes"
   ]
  },
  {
   "cell_type": "code",
   "execution_count": 34,
   "id": "18bfea17-7928-42b2-9b50-4ab6adae552a",
   "metadata": {
    "scrolled": true
   },
   "outputs": [
    {
     "data": {
      "text/plain": [
       "1000"
      ]
     },
     "execution_count": 34,
     "metadata": {},
     "output_type": "execute_result"
    }
   ],
   "source": [
    "cust_interaction[\"Customer ID\"].nunique()\n"
   ]
  },
  {
   "cell_type": "code",
   "execution_count": 35,
   "id": "97653917-3bad-4ec0-8a7b-ffd8c07656ee",
   "metadata": {},
   "outputs": [
    {
     "data": {
      "text/plain": [
       "Interaction Type\n",
       "share    35.6\n",
       "click    32.6\n",
       "view     31.8\n",
       "Name: count, dtype: float64"
      ]
     },
     "execution_count": 35,
     "metadata": {},
     "output_type": "execute_result"
    }
   ],
   "source": [
    "total_interaction_type = (cust_interaction[\"Interaction Type\"].value_counts()/1000)*100\n",
    "total_interaction_type"
   ]
  },
  {
   "cell_type": "code",
   "execution_count": 36,
   "id": "86207737-6d42-4978-98c9-8d64b90d2a41",
   "metadata": {},
   "outputs": [
    {
     "data": {
      "text/plain": [
       "Interaction Channel\n",
       "website         345\n",
       "email           329\n",
       "social media    326\n",
       "Name: count, dtype: int64"
      ]
     },
     "execution_count": 36,
     "metadata": {},
     "output_type": "execute_result"
    }
   ],
   "source": [
    "total_interaction_chanel= cust_interaction[\"Interaction Channel\"].value_counts()\n",
    "total_interaction_chanel"
   ]
  },
  {
   "cell_type": "code",
   "execution_count": 38,
   "id": "c7cbad8b-018e-49a0-a13d-31f6120b2976",
   "metadata": {},
   "outputs": [
    {
     "data": {
      "image/png": "[encoded data removed]",
      "text/plain": [
       "<Figure size 640x480 with 1 Axes>"
      ]
     },
     "metadata": {},
     "output_type": "display_data"
    }
   ],
   "source": [
    "plt.bar(total_interaction_chanel.index, total_interaction_chanel.values)\n",
    "plt.title(\"Total customers interacted by channel\")\n",
    "plt.xlabel(\"Interaction Channels\")\n",
    "plt.ylabel(\"Counts of Customers\")\n",
    "plt.show()"
   ]
  },
  {
   "cell_type": "code",
   "execution_count": null,
   "id": "feaa2722-c75d-4015-bd6c-9fda358733a2",
   "metadata": {},
   "outputs": [],
   "source": [
    "#Engagement Rate for the Campaign\n",
    "engagement_rate = (1000/1500)*100\n",
    "print(\"Engagement rate :\", round(engagement_rate, 2), \"%\")\n",
    "Engagement rate = 66.67%"
   ]
  },
  {
   "cell_type": "code",
   "execution_count": 41,
   "id": "3a3c6bc5-8190-4fa2-873d-dd2e0b659580",
   "metadata": {},
   "outputs": [
    {
     "data": {
      "text/html": [
       "<div>\n",
       "<style scoped>\n",
       "    .dataframe tbody tr th:only-of-type {\n",
       "        vertical-align: middle;\n",
       "    }\n",
       "\n",
       "    .dataframe tbody tr th {\n",
       "        vertical-align: top;\n",
       "    }\n",
       "\n",
       "    .dataframe thead th {\n",
       "        text-align: right;\n",
       "    }\n",
       "</style>\n",
       "<table border=\"1\" class=\"dataframe\">\n",
       "  <thead>\n",
       "    <tr style=\"text-align: right;\">\n",
       "      <th></th>\n",
       "      <th>Customer ID</th>\n",
       "      <th>Interaction Date</th>\n",
       "      <th>Interaction Type</th>\n",
       "      <th>Interaction Channel</th>\n",
       "      <th>Transaction ID</th>\n",
       "      <th>Transaction Date</th>\n",
       "      <th>Product ID</th>\n",
       "      <th>Product Category</th>\n",
       "      <th>Sales Amount</th>\n",
       "      <th>Quantity</th>\n",
       "    </tr>\n",
       "  </thead>\n",
       "  <tbody>\n",
       "    <tr>\n",
       "      <th>0</th>\n",
       "      <td>1</td>\n",
       "      <td>2024-02-28</td>\n",
       "      <td>share</td>\n",
       "      <td>website</td>\n",
       "      <td>178</td>\n",
       "      <td>2024-05-31</td>\n",
       "      <td>88</td>\n",
       "      <td>Home &amp; Kitchen</td>\n",
       "      <td>372.84</td>\n",
       "      <td>6</td>\n",
       "    </tr>\n",
       "    <tr>\n",
       "      <th>1</th>\n",
       "      <td>2</td>\n",
       "      <td>2024-04-27</td>\n",
       "      <td>view</td>\n",
       "      <td>social media</td>\n",
       "      <td>135</td>\n",
       "      <td>2024-03-18</td>\n",
       "      <td>84</td>\n",
       "      <td>Clothing</td>\n",
       "      <td>485.74</td>\n",
       "      <td>9</td>\n",
       "    </tr>\n",
       "    <tr>\n",
       "      <th>2</th>\n",
       "      <td>2</td>\n",
       "      <td>2024-04-27</td>\n",
       "      <td>view</td>\n",
       "      <td>social media</td>\n",
       "      <td>223</td>\n",
       "      <td>2024-07-04</td>\n",
       "      <td>99</td>\n",
       "      <td>Sports</td>\n",
       "      <td>482.55</td>\n",
       "      <td>6</td>\n",
       "    </tr>\n",
       "    <tr>\n",
       "      <th>3</th>\n",
       "      <td>2</td>\n",
       "      <td>2024-04-27</td>\n",
       "      <td>view</td>\n",
       "      <td>social media</td>\n",
       "      <td>886</td>\n",
       "      <td>2024-03-13</td>\n",
       "      <td>170</td>\n",
       "      <td>Home &amp; Kitchen</td>\n",
       "      <td>272.24</td>\n",
       "      <td>9</td>\n",
       "    </tr>\n",
       "    <tr>\n",
       "      <th>4</th>\n",
       "      <td>2</td>\n",
       "      <td>2024-04-27</td>\n",
       "      <td>view</td>\n",
       "      <td>social media</td>\n",
       "      <td>1183</td>\n",
       "      <td>2024-02-06</td>\n",
       "      <td>241</td>\n",
       "      <td>Books</td>\n",
       "      <td>13.68</td>\n",
       "      <td>7</td>\n",
       "    </tr>\n",
       "  </tbody>\n",
       "</table>\n",
       "</div>"
      ],
      "text/plain": [
       "   Customer ID Interaction Date Interaction Type Interaction Channel  \\\n",
       "0            1       2024-02-28            share             website   \n",
       "1            2       2024-04-27             view        social media   \n",
       "2            2       2024-04-27             view        social media   \n",
       "3            2       2024-04-27             view        social media   \n",
       "4            2       2024-04-27             view        social media   \n",
       "\n",
       "   Transaction ID Transaction Date  Product ID Product Category  Sales Amount  \\\n",
       "0             178       2024-05-31          88   Home & Kitchen        372.84   \n",
       "1             135       2024-03-18          84         Clothing        485.74   \n",
       "2             223       2024-07-04          99           Sports        482.55   \n",
       "3             886       2024-03-13         170   Home & Kitchen        272.24   \n",
       "4            1183       2024-02-06         241            Books         13.68   \n",
       "\n",
       "   Quantity  \n",
       "0         6  \n",
       "1         9  \n",
       "2         6  \n",
       "3         9  \n",
       "4         7  "
      ]
     },
     "execution_count": 41,
     "metadata": {},
     "output_type": "execute_result"
    }
   ],
   "source": [
    "cust_intr_purch = cust_interaction.merge(sales_data, on = \"Customer ID\", how = \"inner\")\n",
    "cust_intr_purch.head()"
   ]
  },
  {
   "cell_type": "markdown",
   "id": "b77e4614-a687-4fe5-8acd-3d32de752321",
   "metadata": {},
   "source": [
    "#What percentage of engaged customers made a purchase, and how does this compare to our targets?"
   ]
  },
  {
   "cell_type": "markdown",
   "id": "63a20802-a438-4616-8467-d319286a545f",
   "metadata": {},
   "source": []
  },
  {
   "cell_type": "code",
   "execution_count": 42,
   "id": "464b98d7-4a7f-474b-9bc5-26b8f80fd76d",
   "metadata": {},
   "outputs": [
    {
     "data": {
      "text/plain": [
       "656"
      ]
     },
     "execution_count": 42,
     "metadata": {},
     "output_type": "execute_result"
    }
   ],
   "source": [
    "total_cust_intr_purch = cust_intr_purch[\"Customer ID\"].nunique()\n",
    "total_cust_intr_purch"
   ]
  },
  {
   "cell_type": "code",
   "execution_count": 43,
   "id": "538a1797-4a5c-4e9a-bd1a-5d1899583f1f",
   "metadata": {},
   "outputs": [
    {
     "name": "stdout",
     "output_type": "stream",
     "text": [
      "Purchase rate by targeted customers : 43.73 %\n",
      "Purchase rate by engaged customers : 65.6 %\n"
     ]
    }
   ],
   "source": [
    "purch_rate_targeted = (total_cust_intr_purch / 1500) * 100\n",
    "purch_rate_engaged = (total_cust_intr_purch / 1000) * 100\n",
    "\n",
    "print(\"Purchase rate by targeted customers :\", round(purch_rate_targeted, 2), \"%\")\n",
    "print(\"Purchase rate by engaged customers :\", round(purch_rate_engaged, 2), \"%\")"
   ]
  },
  {
   "cell_type": "code",
   "execution_count": 44,
   "id": "1189f9c7-d2f1-4b99-a3bd-645455aff89e",
   "metadata": {},
   "outputs": [
    {
     "data": {
      "text/html": [
       "<div>\n",
       "<style scoped>\n",
       "    .dataframe tbody tr th:only-of-type {\n",
       "        vertical-align: middle;\n",
       "    }\n",
       "\n",
       "    .dataframe tbody tr th {\n",
       "        vertical-align: top;\n",
       "    }\n",
       "\n",
       "    .dataframe thead th {\n",
       "        text-align: right;\n",
       "    }\n",
       "</style>\n",
       "<table border=\"1\" class=\"dataframe\">\n",
       "  <thead>\n",
       "    <tr style=\"text-align: right;\">\n",
       "      <th></th>\n",
       "      <th>Transaction ID</th>\n",
       "      <th>Transaction Date</th>\n",
       "      <th>Customer ID</th>\n",
       "      <th>Product ID</th>\n",
       "      <th>Product Category</th>\n",
       "      <th>Sales Amount</th>\n",
       "      <th>Quantity</th>\n",
       "    </tr>\n",
       "  </thead>\n",
       "  <tbody>\n",
       "    <tr>\n",
       "      <th>0</th>\n",
       "      <td>1</td>\n",
       "      <td>2024-01-19</td>\n",
       "      <td>213</td>\n",
       "      <td>345</td>\n",
       "      <td>Books</td>\n",
       "      <td>295.15</td>\n",
       "      <td>7</td>\n",
       "    </tr>\n",
       "    <tr>\n",
       "      <th>1</th>\n",
       "      <td>2</td>\n",
       "      <td>2024-06-11</td>\n",
       "      <td>59</td>\n",
       "      <td>134</td>\n",
       "      <td>Electronics</td>\n",
       "      <td>457.78</td>\n",
       "      <td>1</td>\n",
       "    </tr>\n",
       "    <tr>\n",
       "      <th>2</th>\n",
       "      <td>3</td>\n",
       "      <td>2024-01-10</td>\n",
       "      <td>178</td>\n",
       "      <td>89</td>\n",
       "      <td>Electronics</td>\n",
       "      <td>423.84</td>\n",
       "      <td>2</td>\n",
       "    </tr>\n",
       "    <tr>\n",
       "      <th>3</th>\n",
       "      <td>4</td>\n",
       "      <td>2024-05-30</td>\n",
       "      <td>359</td>\n",
       "      <td>423</td>\n",
       "      <td>Home &amp; Kitchen</td>\n",
       "      <td>497.52</td>\n",
       "      <td>1</td>\n",
       "    </tr>\n",
       "    <tr>\n",
       "      <th>4</th>\n",
       "      <td>5</td>\n",
       "      <td>2024-03-21</td>\n",
       "      <td>384</td>\n",
       "      <td>139</td>\n",
       "      <td>Clothing</td>\n",
       "      <td>164.21</td>\n",
       "      <td>7</td>\n",
       "    </tr>\n",
       "  </tbody>\n",
       "</table>\n",
       "</div>"
      ],
      "text/plain": [
       "   Transaction ID Transaction Date  Customer ID  Product ID Product Category  \\\n",
       "0               1       2024-01-19          213         345            Books   \n",
       "1               2       2024-06-11           59         134      Electronics   \n",
       "2               3       2024-01-10          178          89      Electronics   \n",
       "3               4       2024-05-30          359         423   Home & Kitchen   \n",
       "4               5       2024-03-21          384         139         Clothing   \n",
       "\n",
       "   Sales Amount  Quantity  \n",
       "0        295.15         7  \n",
       "1        457.78         1  \n",
       "2        423.84         2  \n",
       "3        497.52         1  \n",
       "4        164.21         7  "
      ]
     },
     "execution_count": 44,
     "metadata": {},
     "output_type": "execute_result"
    }
   ],
   "source": [
    "sales_data.head()"
   ]
  },
  {
   "cell_type": "markdown",
   "id": "b5be4d98-7fa3-4687-adc0-a9b6ec7a1191",
   "metadata": {},
   "source": [
    "What was the overall impact on sales? Did we see a significant increase in sales during and after the campaign period?\n",
    "Total sales during the campaign"
   ]
  },
  {
   "cell_type": "code",
   "execution_count": 47,
   "id": "a0886720-21b2-44e0-80ff-bfbfc5c01682",
   "metadata": {},
   "outputs": [
    {
     "data": {
      "text/plain": [
       "Timestamp('2024-01-01 00:00:00')"
      ]
     },
     "execution_count": 47,
     "metadata": {},
     "output_type": "execute_result"
    }
   ],
   "source": [
    "sales_data[\"Transaction Date\"].min()"
   ]
  },
  {
   "cell_type": "code",
   "execution_count": 48,
   "id": "5e3104ac-f3c2-4421-be68-bf212b80a582",
   "metadata": {},
   "outputs": [
    {
     "data": {
      "text/plain": [
       "Timestamp('2024-07-06 00:00:00')"
      ]
     },
     "execution_count": 48,
     "metadata": {},
     "output_type": "execute_result"
    }
   ],
   "source": [
    "sales_data[\"Transaction Date\"].max()"
   ]
  },
  {
   "cell_type": "code",
   "execution_count": 49,
   "id": "fb7a8ea1-5a75-4c16-b360-22809d603631",
   "metadata": {},
   "outputs": [
    {
     "data": {
      "text/html": [
       "<div>\n",
       "<style scoped>\n",
       "    .dataframe tbody tr th:only-of-type {\n",
       "        vertical-align: middle;\n",
       "    }\n",
       "\n",
       "    .dataframe tbody tr th {\n",
       "        vertical-align: top;\n",
       "    }\n",
       "\n",
       "    .dataframe thead th {\n",
       "        text-align: right;\n",
       "    }\n",
       "</style>\n",
       "<table border=\"1\" class=\"dataframe\">\n",
       "  <thead>\n",
       "    <tr style=\"text-align: right;\">\n",
       "      <th></th>\n",
       "      <th>Transaction ID</th>\n",
       "      <th>Transaction Date</th>\n",
       "      <th>Customer ID</th>\n",
       "      <th>Product ID</th>\n",
       "      <th>Product Category</th>\n",
       "      <th>Sales Amount</th>\n",
       "      <th>Quantity</th>\n",
       "      <th>Sales</th>\n",
       "    </tr>\n",
       "  </thead>\n",
       "  <tbody>\n",
       "    <tr>\n",
       "      <th>0</th>\n",
       "      <td>1</td>\n",
       "      <td>2024-01-19</td>\n",
       "      <td>213</td>\n",
       "      <td>345</td>\n",
       "      <td>Books</td>\n",
       "      <td>295.15</td>\n",
       "      <td>7</td>\n",
       "      <td>2066.05</td>\n",
       "    </tr>\n",
       "    <tr>\n",
       "      <th>1</th>\n",
       "      <td>2</td>\n",
       "      <td>2024-06-11</td>\n",
       "      <td>59</td>\n",
       "      <td>134</td>\n",
       "      <td>Electronics</td>\n",
       "      <td>457.78</td>\n",
       "      <td>1</td>\n",
       "      <td>457.78</td>\n",
       "    </tr>\n",
       "    <tr>\n",
       "      <th>2</th>\n",
       "      <td>3</td>\n",
       "      <td>2024-01-10</td>\n",
       "      <td>178</td>\n",
       "      <td>89</td>\n",
       "      <td>Electronics</td>\n",
       "      <td>423.84</td>\n",
       "      <td>2</td>\n",
       "      <td>847.68</td>\n",
       "    </tr>\n",
       "    <tr>\n",
       "      <th>3</th>\n",
       "      <td>4</td>\n",
       "      <td>2024-05-30</td>\n",
       "      <td>359</td>\n",
       "      <td>423</td>\n",
       "      <td>Home &amp; Kitchen</td>\n",
       "      <td>497.52</td>\n",
       "      <td>1</td>\n",
       "      <td>497.52</td>\n",
       "    </tr>\n",
       "    <tr>\n",
       "      <th>4</th>\n",
       "      <td>5</td>\n",
       "      <td>2024-03-21</td>\n",
       "      <td>384</td>\n",
       "      <td>139</td>\n",
       "      <td>Clothing</td>\n",
       "      <td>164.21</td>\n",
       "      <td>7</td>\n",
       "      <td>1149.47</td>\n",
       "    </tr>\n",
       "  </tbody>\n",
       "</table>\n",
       "</div>"
      ],
      "text/plain": [
       "   Transaction ID Transaction Date  Customer ID  Product ID Product Category  \\\n",
       "0               1       2024-01-19          213         345            Books   \n",
       "1               2       2024-06-11           59         134      Electronics   \n",
       "2               3       2024-01-10          178          89      Electronics   \n",
       "3               4       2024-05-30          359         423   Home & Kitchen   \n",
       "4               5       2024-03-21          384         139         Clothing   \n",
       "\n",
       "   Sales Amount  Quantity    Sales  \n",
       "0        295.15         7  2066.05  \n",
       "1        457.78         1   457.78  \n",
       "2        423.84         2   847.68  \n",
       "3        497.52         1   497.52  \n",
       "4        164.21         7  1149.47  "
      ]
     },
     "execution_count": 49,
     "metadata": {},
     "output_type": "execute_result"
    }
   ],
   "source": [
    "sales_data[\"Sales\"] = sales_data[\"Sales Amount\"] * sales_data[\"Quantity\"]\n",
    "sales_data.head()"
   ]
  },
  {
   "cell_type": "code",
   "execution_count": 50,
   "id": "3f6fcecb-d35c-4b1f-865b-5671d9f7920f",
   "metadata": {},
   "outputs": [
    {
     "data": {
      "text/html": [
       "<div>\n",
       "<style scoped>\n",
       "    .dataframe tbody tr th:only-of-type {\n",
       "        vertical-align: middle;\n",
       "    }\n",
       "\n",
       "    .dataframe tbody tr th {\n",
       "        vertical-align: top;\n",
       "    }\n",
       "\n",
       "    .dataframe thead th {\n",
       "        text-align: right;\n",
       "    }\n",
       "</style>\n",
       "<table border=\"1\" class=\"dataframe\">\n",
       "  <thead>\n",
       "    <tr style=\"text-align: right;\">\n",
       "      <th></th>\n",
       "      <th>Transaction ID</th>\n",
       "      <th>Transaction Date</th>\n",
       "      <th>Customer ID</th>\n",
       "      <th>Product ID</th>\n",
       "      <th>Product Category</th>\n",
       "      <th>Sales Amount</th>\n",
       "      <th>Quantity</th>\n",
       "      <th>Sales</th>\n",
       "      <th>Month</th>\n",
       "      <th>Day</th>\n",
       "    </tr>\n",
       "  </thead>\n",
       "  <tbody>\n",
       "    <tr>\n",
       "      <th>0</th>\n",
       "      <td>1</td>\n",
       "      <td>2024-01-19</td>\n",
       "      <td>213</td>\n",
       "      <td>345</td>\n",
       "      <td>Books</td>\n",
       "      <td>295.15</td>\n",
       "      <td>7</td>\n",
       "      <td>2066.05</td>\n",
       "      <td>1</td>\n",
       "      <td>19</td>\n",
       "    </tr>\n",
       "    <tr>\n",
       "      <th>1</th>\n",
       "      <td>2</td>\n",
       "      <td>2024-06-11</td>\n",
       "      <td>59</td>\n",
       "      <td>134</td>\n",
       "      <td>Electronics</td>\n",
       "      <td>457.78</td>\n",
       "      <td>1</td>\n",
       "      <td>457.78</td>\n",
       "      <td>6</td>\n",
       "      <td>11</td>\n",
       "    </tr>\n",
       "    <tr>\n",
       "      <th>2</th>\n",
       "      <td>3</td>\n",
       "      <td>2024-01-10</td>\n",
       "      <td>178</td>\n",
       "      <td>89</td>\n",
       "      <td>Electronics</td>\n",
       "      <td>423.84</td>\n",
       "      <td>2</td>\n",
       "      <td>847.68</td>\n",
       "      <td>1</td>\n",
       "      <td>10</td>\n",
       "    </tr>\n",
       "    <tr>\n",
       "      <th>3</th>\n",
       "      <td>4</td>\n",
       "      <td>2024-05-30</td>\n",
       "      <td>359</td>\n",
       "      <td>423</td>\n",
       "      <td>Home &amp; Kitchen</td>\n",
       "      <td>497.52</td>\n",
       "      <td>1</td>\n",
       "      <td>497.52</td>\n",
       "      <td>5</td>\n",
       "      <td>30</td>\n",
       "    </tr>\n",
       "    <tr>\n",
       "      <th>4</th>\n",
       "      <td>5</td>\n",
       "      <td>2024-03-21</td>\n",
       "      <td>384</td>\n",
       "      <td>139</td>\n",
       "      <td>Clothing</td>\n",
       "      <td>164.21</td>\n",
       "      <td>7</td>\n",
       "      <td>1149.47</td>\n",
       "      <td>3</td>\n",
       "      <td>21</td>\n",
       "    </tr>\n",
       "  </tbody>\n",
       "</table>\n",
       "</div>"
      ],
      "text/plain": [
       "   Transaction ID Transaction Date  Customer ID  Product ID Product Category  \\\n",
       "0               1       2024-01-19          213         345            Books   \n",
       "1               2       2024-06-11           59         134      Electronics   \n",
       "2               3       2024-01-10          178          89      Electronics   \n",
       "3               4       2024-05-30          359         423   Home & Kitchen   \n",
       "4               5       2024-03-21          384         139         Clothing   \n",
       "\n",
       "   Sales Amount  Quantity    Sales  Month  Day  \n",
       "0        295.15         7  2066.05      1   19  \n",
       "1        457.78         1   457.78      6   11  \n",
       "2        423.84         2   847.68      1   10  \n",
       "3        497.52         1   497.52      5   30  \n",
       "4        164.21         7  1149.47      3   21  "
      ]
     },
     "execution_count": 50,
     "metadata": {},
     "output_type": "execute_result"
    }
   ],
   "source": [
    "sales_data[\"Month\"] = sales_data[\"Transaction Date\"].dt.month\n",
    "sales_data[\"Day\"] = sales_data[\"Transaction Date\"].dt.day\n",
    "sales_data.head()"
   ]
  },
  {
   "cell_type": "code",
   "execution_count": 53,
   "id": "9babcc74-869a-4aeb-b91c-e5f1ce0898a6",
   "metadata": {},
   "outputs": [
    {
     "data": {
      "text/plain": [
       "0       2066.05\n",
       "2        847.68\n",
       "4       1149.47\n",
       "5       2875.20\n",
       "6        977.55\n",
       "         ...   \n",
       "1362     378.48\n",
       "1364     440.93\n",
       "1365    2882.76\n",
       "1366     286.68\n",
       "1369    1762.14\n",
       "Name: Sales, Length: 918, dtype: float64"
      ]
     },
     "execution_count": 53,
     "metadata": {},
     "output_type": "execute_result"
    }
   ],
   "source": [
    "sales_campaign = sales_data[sales_data[\"Month\"]<5][\"Sales\"]\n",
    "sales_campaign"
   ]
  },
  {
   "cell_type": "code",
   "execution_count": 60,
   "id": "4dc0480e-bfc0-4ca9-bf74-c0726c2401fb",
   "metadata": {},
   "outputs": [
    {
     "name": "stdout",
     "output_type": "stream",
     "text": [
      "Total sales during campaign : 1308551.48\n"
     ]
    }
   ],
   "source": [
    "total_sales_campaign = sum(sales_campaign)\n",
    "print(\"Total sales during campaign :\", total_sales_campaign)"
   ]
  },
  {
   "cell_type": "code",
   "execution_count": 62,
   "id": "38c73530-0181-4a74-b3a5-2bd4b9b6695a",
   "metadata": {},
   "outputs": [
    {
     "data": {
      "text/plain": [
       "1        457.78\n",
       "3        497.52\n",
       "9       1014.58\n",
       "10       659.16\n",
       "15      4341.80\n",
       "         ...   \n",
       "1360    1022.36\n",
       "1361    3395.34\n",
       "1363    2393.30\n",
       "1367     481.28\n",
       "1368    1094.80\n",
       "Name: Sales, Length: 452, dtype: float64"
      ]
     },
     "execution_count": 62,
     "metadata": {},
     "output_type": "execute_result"
    }
   ],
   "source": [
    "sale_after_campaign = sales_data[sales_data[\"Month\"]>4][\"Sales\"]\n",
    "sale_after_campaign"
   ]
  },
  {
   "cell_type": "code",
   "execution_count": 63,
   "id": "18693953-8518-49b7-ba95-b76a7d5c2974",
   "metadata": {},
   "outputs": [
    {
     "name": "stdout",
     "output_type": "stream",
     "text": [
      "total sales after campaign : 637323.82\n"
     ]
    }
   ],
   "source": [
    "total_sales_after_campaign = sum(sale_after_campaign)\n",
    "print(\"total sales after campaign :\",total_sales_after_campaign)"
   ]
  },
  {
   "cell_type": "code",
   "execution_count": 64,
   "id": "b0bcedd9-5efa-4c3f-87c2-5c6f8a22e30b",
   "metadata": {},
   "outputs": [
    {
     "name": "stdout",
     "output_type": "stream",
     "text": [
      "Sales increase rate : 105.32 %\n"
     ]
    }
   ],
   "source": [
    "#Increase/decrease rate of sales\n",
    "sales_incr_rate = ((total_sales_campaign - total_sales_after_campaign) / total_sales_after_campaign) * 100\n",
    "print(\"Sales increase rate :\", round(sales_incr_rate, 2), \"%\")"
   ]
  },
  {
   "cell_type": "markdown",
   "id": "b0098aae-4b8a-42e4-8a81-a7a198895cd3",
   "metadata": {},
   "source": [
    "How does the ROI of this campaign compare to previous ones? Was our spending justified by the results?\n",
    "ROI of recent campaign."
   ]
  },
  {
   "cell_type": "code",
   "execution_count": 2,
   "id": "a23788fe-ecc8-44a3-b0e6-e93b99a53b39",
   "metadata": {},
   "outputs": [
    {
     "name": "stdout",
     "output_type": "stream",
     "text": [
      "ROI of recent campaign : 2517.1\n"
     ]
    }
   ],
   "source": [
    "roi_recent_camp = ((1308551.48 - 50000) / 50000) * 100\n",
    "print(\"ROI of recent campaign :\", round(roi_recent_camp, 2))"
   ]
  },
  {
   "cell_type": "markdown",
   "id": "7cda2aeb-ce2d-4781-8873-14076ea709ff",
   "metadata": {},
   "source": [
    "ROI of previous campaign"
   ]
  },
  {
   "cell_type": "code",
   "execution_count": 3,
   "id": "239750b1-6ef0-45da-94e0-1cfa389d6ddf",
   "metadata": {},
   "outputs": [
    {
     "name": "stdout",
     "output_type": "stream",
     "text": [
      "ROI of previous campaign : 370.19\n"
     ]
    }
   ],
   "source": [
    "roi_previous_camp = ((268009 - 57000) / 57000) * 100\n",
    "print(\"ROI of previous campaign :\", round(roi_previous_camp, 2))"
   ]
  },
  {
   "cell_type": "code",
   "execution_count": 4,
   "id": "1f655031-964d-4241-afd6-64cc0c8b8496",
   "metadata": {},
   "outputs": [
    {
     "name": "stdout",
     "output_type": "stream",
     "text": [
      "ROI growth rate : 579.95 %\n"
     ]
    }
   ],
   "source": [
    "roi_growth = ((roi_recent_camp - roi_previous_camp) / roi_previous_camp) *100\n",
    "print(\"ROI growth rate :\", round(roi_growth, 2), \"%\")"
   ]
  },
  {
   "cell_type": "markdown",
   "id": "a6b04ba7-a5e9-4493-912d-5822eaf64650",
   "metadata": {},
   "source": [
    "Which customer demographics responded most positively or negatively to the campaign? Are there specific segments we should focus on or avoid in the future?"
   ]
  },
  {
   "cell_type": "code",
   "execution_count": 22,
   "id": "ad3eccb0-ddc5-436e-bfd0-14dacdac5660",
   "metadata": {
    "scrolled": true
   },
   "outputs": [],
   "source": [
    "\n",
    "\n",
    "import pandas as pd\n",
    "import numpy as np\n",
    "import matplotlib.pyplot as plt\n",
    "import seaborn as sns\n",
    "\n",
    "\n"
   ]
  },
  {
   "cell_type": "code",
   "execution_count": 23,
   "id": "dee68070-7026-4d98-a034-c83997088a23",
   "metadata": {},
   "outputs": [],
   "source": [
    " cust_demo_data =pd.read_csv(r\"C:\\Users\\shaik\\Downloads\\Datasets\\Datasets\\customer_demographic_data.csv\")\n",
    "cust_interaction = pd.read_csv(r\"C:\\Users\\shaik\\Downloads\\Datasets\\Datasets\\customer_interactions.csv\")\n"
   ]
  },
  {
   "cell_type": "code",
   "execution_count": 41,
   "id": "fac1bd9b-717b-49f8-8d80-15816786d509",
   "metadata": {},
   "outputs": [],
   "source": [
    "cust_demo_data.head()\n",
    "cust_interaction[\"Interaction Channel\"]=cust_interaction[\"Interaction Channel\"].fillna(\"website\") "
   ]
  },
  {
   "cell_type": "code",
   "execution_count": 42,
   "id": "2ea9f839-be40-4440-9eea-a4edb546b9d5",
   "metadata": {},
   "outputs": [
    {
     "data": {
      "text/html": [
       "<div>\n",
       "<style scoped>\n",
       "    .dataframe tbody tr th:only-of-type {\n",
       "        vertical-align: middle;\n",
       "    }\n",
       "\n",
       "    .dataframe tbody tr th {\n",
       "        vertical-align: top;\n",
       "    }\n",
       "\n",
       "    .dataframe thead th {\n",
       "        text-align: right;\n",
       "    }\n",
       "</style>\n",
       "<table border=\"1\" class=\"dataframe\">\n",
       "  <thead>\n",
       "    <tr style=\"text-align: right;\">\n",
       "      <th></th>\n",
       "      <th>Customer ID</th>\n",
       "      <th>Age</th>\n",
       "      <th>Gender</th>\n",
       "      <th>Location</th>\n",
       "      <th>Income Level</th>\n",
       "      <th>Interaction Date</th>\n",
       "      <th>Interaction Type</th>\n",
       "      <th>Interaction Channel</th>\n",
       "    </tr>\n",
       "  </thead>\n",
       "  <tbody>\n",
       "    <tr>\n",
       "      <th>0</th>\n",
       "      <td>1</td>\n",
       "      <td>65</td>\n",
       "      <td>Male</td>\n",
       "      <td>Martinezmouth</td>\n",
       "      <td>61083</td>\n",
       "      <td>2/28/2024</td>\n",
       "      <td>share</td>\n",
       "      <td>website</td>\n",
       "    </tr>\n",
       "    <tr>\n",
       "      <th>1</th>\n",
       "      <td>2</td>\n",
       "      <td>43</td>\n",
       "      <td>Non-binary</td>\n",
       "      <td>South Anne</td>\n",
       "      <td>90419</td>\n",
       "      <td>4/27/2024</td>\n",
       "      <td>view</td>\n",
       "      <td>social media</td>\n",
       "    </tr>\n",
       "    <tr>\n",
       "      <th>2</th>\n",
       "      <td>3</td>\n",
       "      <td>58</td>\n",
       "      <td>Non-binary</td>\n",
       "      <td>West Darrellport</td>\n",
       "      <td>38260</td>\n",
       "      <td>2/26/2024</td>\n",
       "      <td>share</td>\n",
       "      <td>email</td>\n",
       "    </tr>\n",
       "    <tr>\n",
       "      <th>3</th>\n",
       "      <td>4</td>\n",
       "      <td>53</td>\n",
       "      <td>Non-binary</td>\n",
       "      <td>Stevenshire</td>\n",
       "      <td>34649</td>\n",
       "      <td>2/13/2024</td>\n",
       "      <td>click</td>\n",
       "      <td>email</td>\n",
       "    </tr>\n",
       "    <tr>\n",
       "      <th>4</th>\n",
       "      <td>5</td>\n",
       "      <td>69</td>\n",
       "      <td>Female</td>\n",
       "      <td>South Kellychester</td>\n",
       "      <td>70420</td>\n",
       "      <td>4/1/2024</td>\n",
       "      <td>share</td>\n",
       "      <td>social media</td>\n",
       "    </tr>\n",
       "  </tbody>\n",
       "</table>\n",
       "</div>"
      ],
      "text/plain": [
       "   Customer ID  Age      Gender            Location  Income Level  \\\n",
       "0            1   65        Male       Martinezmouth         61083   \n",
       "1            2   43  Non-binary          South Anne         90419   \n",
       "2            3   58  Non-binary    West Darrellport         38260   \n",
       "3            4   53  Non-binary         Stevenshire         34649   \n",
       "4            5   69      Female  South Kellychester         70420   \n",
       "\n",
       "  Interaction Date Interaction Type Interaction Channel  \n",
       "0        2/28/2024            share             website  \n",
       "1        4/27/2024             view        social media  \n",
       "2        2/26/2024            share               email  \n",
       "3        2/13/2024            click               email  \n",
       "4         4/1/2024            share        social media  "
      ]
     },
     "execution_count": 42,
     "metadata": {},
     "output_type": "execute_result"
    }
   ],
   "source": [
    "interacted_cust_data = cust_demo_data.merge(cust_interaction,on = \"Customer ID\",how = \"inner\")\n",
    "interacted_cust_data.head()"
   ]
  },
  {
   "cell_type": "code",
   "execution_count": 43,
   "id": "29885b9e-37fb-45cc-8c8f-6972e91df9c2",
   "metadata": {},
   "outputs": [
    {
     "data": {
      "text/html": [
       "<div>\n",
       "<style scoped>\n",
       "    .dataframe tbody tr th:only-of-type {\n",
       "        vertical-align: middle;\n",
       "    }\n",
       "\n",
       "    .dataframe tbody tr th {\n",
       "        vertical-align: top;\n",
       "    }\n",
       "\n",
       "    .dataframe thead th {\n",
       "        text-align: right;\n",
       "    }\n",
       "</style>\n",
       "<table border=\"1\" class=\"dataframe\">\n",
       "  <thead>\n",
       "    <tr style=\"text-align: right;\">\n",
       "      <th></th>\n",
       "      <th>Customer ID</th>\n",
       "      <th>Age</th>\n",
       "      <th>Gender</th>\n",
       "      <th>Location</th>\n",
       "      <th>Income Level</th>\n",
       "      <th>Interaction Date</th>\n",
       "      <th>Interaction Type</th>\n",
       "      <th>Interaction Channel</th>\n",
       "    </tr>\n",
       "  </thead>\n",
       "  <tbody>\n",
       "    <tr>\n",
       "      <th>51</th>\n",
       "      <td>52</td>\n",
       "      <td>20</td>\n",
       "      <td>Other</td>\n",
       "      <td>Dianaton</td>\n",
       "      <td>19176</td>\n",
       "      <td>5/4/2024</td>\n",
       "      <td>view</td>\n",
       "      <td>social media</td>\n",
       "    </tr>\n",
       "    <tr>\n",
       "      <th>64</th>\n",
       "      <td>65</td>\n",
       "      <td>21</td>\n",
       "      <td>Male</td>\n",
       "      <td>Lukemouth</td>\n",
       "      <td>26780</td>\n",
       "      <td>1/18/2024</td>\n",
       "      <td>click</td>\n",
       "      <td>social media</td>\n",
       "    </tr>\n",
       "    <tr>\n",
       "      <th>92</th>\n",
       "      <td>93</td>\n",
       "      <td>20</td>\n",
       "      <td>Other</td>\n",
       "      <td>Port Marvin</td>\n",
       "      <td>23532</td>\n",
       "      <td>3/11/2024</td>\n",
       "      <td>view</td>\n",
       "      <td>social media</td>\n",
       "    </tr>\n",
       "    <tr>\n",
       "      <th>114</th>\n",
       "      <td>115</td>\n",
       "      <td>20</td>\n",
       "      <td>Female</td>\n",
       "      <td>Lake Robertfurt</td>\n",
       "      <td>14709</td>\n",
       "      <td>2/6/2024</td>\n",
       "      <td>share</td>\n",
       "      <td>website</td>\n",
       "    </tr>\n",
       "    <tr>\n",
       "      <th>138</th>\n",
       "      <td>139</td>\n",
       "      <td>23</td>\n",
       "      <td>Non-binary</td>\n",
       "      <td>Cherylburgh</td>\n",
       "      <td>19490</td>\n",
       "      <td>4/5/2024</td>\n",
       "      <td>view</td>\n",
       "      <td>email</td>\n",
       "    </tr>\n",
       "  </tbody>\n",
       "</table>\n",
       "</div>"
      ],
      "text/plain": [
       "     Customer ID  Age      Gender         Location  Income Level  \\\n",
       "51            52   20       Other         Dianaton         19176   \n",
       "64            65   21        Male        Lukemouth         26780   \n",
       "92            93   20       Other      Port Marvin         23532   \n",
       "114          115   20      Female  Lake Robertfurt         14709   \n",
       "138          139   23  Non-binary      Cherylburgh         19490   \n",
       "\n",
       "    Interaction Date Interaction Type Interaction Channel  \n",
       "51          5/4/2024             view        social media  \n",
       "64         1/18/2024            click        social media  \n",
       "92         3/11/2024             view        social media  \n",
       "114         2/6/2024            share             website  \n",
       "138         4/5/2024             view               email  "
      ]
     },
     "execution_count": 43,
     "metadata": {},
     "output_type": "execute_result"
    }
   ],
   "source": [
    "young_low_income_intr =interacted_cust_data[(interacted_cust_data[\"Age\"]>17) & (interacted_cust_data[\"Age\"] <25) & (interacted_cust_data[\"Income Level\"] <30000)]\n",
    "young_low_income_intr.head()"
   ]
  },
  {
   "cell_type": "code",
   "execution_count": 52,
   "id": "af7bb7ee-df65-43bd-b4ee-45c9cd8df7d1",
   "metadata": {},
   "outputs": [
    {
     "data": {
      "text/html": [
       "<div>\n",
       "<style scoped>\n",
       "    .dataframe tbody tr th:only-of-type {\n",
       "        vertical-align: middle;\n",
       "    }\n",
       "\n",
       "    .dataframe tbody tr th {\n",
       "        vertical-align: top;\n",
       "    }\n",
       "\n",
       "    .dataframe thead th {\n",
       "        text-align: right;\n",
       "    }\n",
       "</style>\n",
       "<table border=\"1\" class=\"dataframe\">\n",
       "  <thead>\n",
       "    <tr style=\"text-align: right;\">\n",
       "      <th></th>\n",
       "      <th>Customer ID</th>\n",
       "      <th>Age</th>\n",
       "      <th>Gender</th>\n",
       "      <th>Location</th>\n",
       "      <th>Income Level</th>\n",
       "      <th>Interaction Date</th>\n",
       "      <th>Interaction Type</th>\n",
       "      <th>Interaction Channel</th>\n",
       "    </tr>\n",
       "  </thead>\n",
       "  <tbody>\n",
       "    <tr>\n",
       "      <th>8</th>\n",
       "      <td>9</td>\n",
       "      <td>24</td>\n",
       "      <td>Non-binary</td>\n",
       "      <td>East Melanie</td>\n",
       "      <td>43329</td>\n",
       "      <td>4/8/2024</td>\n",
       "      <td>click</td>\n",
       "      <td>email</td>\n",
       "    </tr>\n",
       "    <tr>\n",
       "      <th>12</th>\n",
       "      <td>13</td>\n",
       "      <td>23</td>\n",
       "      <td>Non-binary</td>\n",
       "      <td>Port Vincent</td>\n",
       "      <td>46646</td>\n",
       "      <td>2/1/2024</td>\n",
       "      <td>share</td>\n",
       "      <td>social media</td>\n",
       "    </tr>\n",
       "    <tr>\n",
       "      <th>20</th>\n",
       "      <td>21</td>\n",
       "      <td>19</td>\n",
       "      <td>Non-binary</td>\n",
       "      <td>Paceview</td>\n",
       "      <td>53522</td>\n",
       "      <td>4/27/2024</td>\n",
       "      <td>share</td>\n",
       "      <td>website</td>\n",
       "    </tr>\n",
       "    <tr>\n",
       "      <th>72</th>\n",
       "      <td>73</td>\n",
       "      <td>22</td>\n",
       "      <td>Non-binary</td>\n",
       "      <td>Sherriton</td>\n",
       "      <td>55401</td>\n",
       "      <td>2/5/2024</td>\n",
       "      <td>click</td>\n",
       "      <td>social media</td>\n",
       "    </tr>\n",
       "    <tr>\n",
       "      <th>82</th>\n",
       "      <td>83</td>\n",
       "      <td>19</td>\n",
       "      <td>Female</td>\n",
       "      <td>Gibbsstad</td>\n",
       "      <td>44655</td>\n",
       "      <td>3/2/2024</td>\n",
       "      <td>click</td>\n",
       "      <td>email</td>\n",
       "    </tr>\n",
       "  </tbody>\n",
       "</table>\n",
       "</div>"
      ],
      "text/plain": [
       "    Customer ID  Age      Gender      Location  Income Level Interaction Date  \\\n",
       "8             9   24  Non-binary  East Melanie         43329         4/8/2024   \n",
       "12           13   23  Non-binary  Port Vincent         46646         2/1/2024   \n",
       "20           21   19  Non-binary      Paceview         53522        4/27/2024   \n",
       "72           73   22  Non-binary     Sherriton         55401         2/5/2024   \n",
       "82           83   19      Female     Gibbsstad         44655         3/2/2024   \n",
       "\n",
       "   Interaction Type Interaction Channel  \n",
       "8             click               email  \n",
       "12            share        social media  \n",
       "20            share             website  \n",
       "72            click        social media  \n",
       "82            click               email  "
      ]
     },
     "execution_count": 52,
     "metadata": {},
     "output_type": "execute_result"
    }
   ],
   "source": [
    "young_medium_income_intr = interacted_cust_data[(interacted_cust_data[\"Age\"] > 17) & (interacted_cust_data[\"Age\"] < 25) & (interacted_cust_data[\"Income Level\"] > 30000) & (interacted_cust_data[\"Income Level\"] < 75000)]\n",
    "young_medium_income_intr.head()"
   ]
  },
  {
   "cell_type": "code",
   "execution_count": 53,
   "id": "410d3937-6486-4493-98dc-e4add26aab3b",
   "metadata": {},
   "outputs": [
    {
     "data": {
      "text/html": [
       "<div>\n",
       "<style scoped>\n",
       "    .dataframe tbody tr th:only-of-type {\n",
       "        vertical-align: middle;\n",
       "    }\n",
       "\n",
       "    .dataframe tbody tr th {\n",
       "        vertical-align: top;\n",
       "    }\n",
       "\n",
       "    .dataframe thead th {\n",
       "        text-align: right;\n",
       "    }\n",
       "</style>\n",
       "<table border=\"1\" class=\"dataframe\">\n",
       "  <thead>\n",
       "    <tr style=\"text-align: right;\">\n",
       "      <th></th>\n",
       "      <th>Customer ID</th>\n",
       "      <th>Age</th>\n",
       "      <th>Gender</th>\n",
       "      <th>Location</th>\n",
       "      <th>Income Level</th>\n",
       "      <th>Interaction Date</th>\n",
       "      <th>Interaction Type</th>\n",
       "      <th>Interaction Channel</th>\n",
       "    </tr>\n",
       "  </thead>\n",
       "  <tbody>\n",
       "    <tr>\n",
       "      <th>1</th>\n",
       "      <td>2</td>\n",
       "      <td>43</td>\n",
       "      <td>Non-binary</td>\n",
       "      <td>South Anne</td>\n",
       "      <td>90419</td>\n",
       "      <td>4/27/2024</td>\n",
       "      <td>view</td>\n",
       "      <td>social media</td>\n",
       "    </tr>\n",
       "    <tr>\n",
       "      <th>6</th>\n",
       "      <td>7</td>\n",
       "      <td>43</td>\n",
       "      <td>Male</td>\n",
       "      <td>Lake Joseph</td>\n",
       "      <td>89845</td>\n",
       "      <td>3/3/2024</td>\n",
       "      <td>click</td>\n",
       "      <td>website</td>\n",
       "    </tr>\n",
       "    <tr>\n",
       "      <th>9</th>\n",
       "      <td>10</td>\n",
       "      <td>37</td>\n",
       "      <td>Non-binary</td>\n",
       "      <td>Port Andrew</td>\n",
       "      <td>81745</td>\n",
       "      <td>5/1/2024</td>\n",
       "      <td>share</td>\n",
       "      <td>email</td>\n",
       "    </tr>\n",
       "    <tr>\n",
       "      <th>16</th>\n",
       "      <td>17</td>\n",
       "      <td>66</td>\n",
       "      <td>Other</td>\n",
       "      <td>East Jessica</td>\n",
       "      <td>95692</td>\n",
       "      <td>4/16/2024</td>\n",
       "      <td>click</td>\n",
       "      <td>email</td>\n",
       "    </tr>\n",
       "    <tr>\n",
       "      <th>19</th>\n",
       "      <td>20</td>\n",
       "      <td>41</td>\n",
       "      <td>Male</td>\n",
       "      <td>North David</td>\n",
       "      <td>77251</td>\n",
       "      <td>3/11/2024</td>\n",
       "      <td>click</td>\n",
       "      <td>website</td>\n",
       "    </tr>\n",
       "  </tbody>\n",
       "</table>\n",
       "</div>"
      ],
      "text/plain": [
       "    Customer ID  Age      Gender      Location  Income Level Interaction Date  \\\n",
       "1             2   43  Non-binary    South Anne         90419        4/27/2024   \n",
       "6             7   43        Male   Lake Joseph         89845         3/3/2024   \n",
       "9            10   37  Non-binary   Port Andrew         81745         5/1/2024   \n",
       "16           17   66       Other  East Jessica         95692        4/16/2024   \n",
       "19           20   41        Male   North David         77251        3/11/2024   \n",
       "\n",
       "   Interaction Type Interaction Channel  \n",
       "1              view        social media  \n",
       "6             click             website  \n",
       "9             share               email  \n",
       "16            click               email  \n",
       "19            click             website  "
      ]
     },
     "execution_count": 53,
     "metadata": {},
     "output_type": "execute_result"
    }
   ],
   "source": [
    "middle_high_income_intr = interacted_cust_data[(interacted_cust_data[\"Age\"] > 24) & (interacted_cust_data[\"Income Level\"] > 75000)]\n",
    "middle_high_income_intr.head()"
   ]
  },
  {
   "cell_type": "code",
   "execution_count": 54,
   "id": "0030cd6d-2bad-4643-af7e-7aca3a9ce491",
   "metadata": {},
   "outputs": [
    {
     "data": {
      "text/plain": [
       "2.9"
      ]
     },
     "execution_count": 54,
     "metadata": {},
     "output_type": "execute_result"
    }
   ],
   "source": [
    "young_low_income_intr_cust = young_low_income_intr[\"Customer ID\"].nunique()\n",
    "egr_young_low_income_intr_cust = (young_low_income_intr_cust / 1000) * 100\n",
    "round(egr_young_low_income_intr_cust, 2)\n"
   ]
  },
  {
   "cell_type": "code",
   "execution_count": 55,
   "id": "70ca7ea3-0146-43c1-b774-1013d192a3c1",
   "metadata": {},
   "outputs": [
    {
     "data": {
      "text/plain": [
       "7.7"
      ]
     },
     "execution_count": 55,
     "metadata": {},
     "output_type": "execute_result"
    }
   ],
   "source": [
    "young_medium_income_intr_cust = young_medium_income_intr[\"Customer ID\"].nunique()\n",
    "egr_young_medium_income_intr_cust = (young_medium_income_intr_cust / 1000) * 100\n",
    "round(egr_young_medium_income_intr_cust, 2)"
   ]
  },
  {
   "cell_type": "code",
   "execution_count": 56,
   "id": "7024fa1a-c815-4e95-a17a-3f46200dcbfe",
   "metadata": {},
   "outputs": [
    {
     "data": {
      "text/plain": [
       "22.8"
      ]
     },
     "execution_count": 56,
     "metadata": {},
     "output_type": "execute_result"
    }
   ],
   "source": [
    "middle_high_income_intr_cust = middle_high_income_intr[\"Customer ID\"].nunique()\n",
    "egr_middle_high_income_intr_cust = (middle_high_income_intr_cust / 1000) * 100\n",
    "round(egr_middle_high_income_intr_cust, 2)"
   ]
  },
  {
   "cell_type": "markdown",
   "id": "f7b142cf-77a3-4d30-b551-9fce0732ee5b",
   "metadata": {},
   "source": [
    "Final Remarks\n",
    "Most of the customers interacted by sharing our posts and exploring our websites with a customer engagement rate of 66.67%.\n",
    "We have exceeded our target conversion rate of 35% by the conversion rate of this marketing campaign based on the number of total targeted customers (43.73%).\n",
    "We have achieved a huge milestone of 105% sales increase and 580% ROI growth in this marketing campaign compared to previous marketing campaign.\n",
    "Middle aged higher income customers responded most positively with around 22% engagement and conversion rate compared to other customer demographic segments. We should specially focus on the customers of this segment.\n",
    "Thank You!"
   ]
  }
 ],
 "metadata": {
  "kernelspec": {
   "display_name": "Python 3 (ipykernel)",
   "language": "python",
   "name": "python3"
  },
  "language_info": {
   "codemirror_mode": {
    "name": "ipython",
    "version": 3
   },
   "file_extension": ".py",
   "mimetype": "text/x-python",
   "name": "python",
   "nbconvert_exporter": "python",
   "pygments_lexer": "ipython3",
   "version": "3.12.5"
  }
 },
 "nbformat": 4,
 "nbformat_minor": 5
}
